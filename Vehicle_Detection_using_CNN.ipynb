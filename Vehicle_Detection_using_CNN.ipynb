{
  "cells": [
    {
      "cell_type": "markdown",
      "source": [
        "#Vehicle Detection"
      ],
      "metadata": {
        "id": "jn1KUAVI2al6"
      }
    },
    {
      "cell_type": "markdown",
      "source": [
        "##Installing and Importing Necessary Libraries"
      ],
      "metadata": {
        "id": "KMhsvJd-2aHy"
      }
    },
    {
      "cell_type": "code",
      "execution_count": null,
      "metadata": {
        "id": "LC207W0EH-Yb"
      },
      "outputs": [],
      "source": [
        "!pip install tensorflow-gpu==2.0.0"
      ]
    },
    {
      "cell_type": "code",
      "execution_count": null,
      "metadata": {
        "id": "XKTD-07UPOS3"
      },
      "outputs": [],
      "source": [
        "!pip install keras-tuner"
      ]
    },
    {
      "cell_type": "code",
      "execution_count": 4,
      "metadata": {
        "id": "L2I7gYIgIB7u"
      },
      "outputs": [],
      "source": [
        "import pandas as pd\n",
        "import numpy as np\n",
        "import seaborn as sns\n",
        "import matplotlib.pyplot as plt\n",
        "from imutils import paths\n",
        "from google.colab import drive\n",
        "from warnings import filterwarnings\n",
        "from sklearn.model_selection import train_test_split\n",
        "from tensorflow.keras.preprocessing.image import img_to_array\n",
        "from tensorflow.keras.models import Sequential\n",
        "from tensorflow.keras.layers import Conv2D, Dense, MaxPooling2D, Activation, Flatten\n",
        "from tensorflow.keras.optimizers import Adam\n",
        "from tqdm import tqdm_notebook as tqdm\n",
        "from keras_tuner import RandomSearch\n",
        "from keras_tuner.engine.hyperparameters import HyperParameters\n",
        "from sklearn.metrics import roc_auc_score, roc_curve, cohen_kappa_score, classification_report, confusion_matrix\n",
        "import random\n",
        "import cv2\n",
        "import os"
      ]
    },
    {
      "cell_type": "code",
      "execution_count": 5,
      "metadata": {
        "colab": {
          "base_uri": "https://localhost:8080/"
        },
        "id": "z5T4OhoWJNGo",
        "outputId": "2283a132-805f-4332-db98-7a85739a531c"
      },
      "outputs": [
        {
          "output_type": "stream",
          "name": "stdout",
          "text": [
            "Mounted at /content/drive\n"
          ]
        }
      ],
      "source": [
        "filterwarnings(\"ignore\")\n",
        "drive.mount(\"/content/drive\")"
      ]
    },
    {
      "cell_type": "code",
      "execution_count": 6,
      "metadata": {
        "id": "lvUgAc68KRp2"
      },
      "outputs": [],
      "source": [
        "os.chdir(\"/content/drive/MyDrive/Colab Notebooks\")"
      ]
    },
    {
      "cell_type": "markdown",
      "source": [
        "##Data Extraction from images"
      ],
      "metadata": {
        "id": "QIEoYN_d2sfG"
      }
    },
    {
      "cell_type": "code",
      "execution_count": 7,
      "metadata": {
        "colab": {
          "base_uri": "https://localhost:8080/",
          "height": 49,
          "referenced_widgets": [
            "cbc9d6c0fa5d4fb6b6b1c972f7a22591",
            "f0352b52aef64cb48d912bb6fcf47601",
            "d7a23817289343b58ec6de458013f761",
            "8e027aff7b1a4eec9214e2b517552da5",
            "e38c75118a564cebaecaa79342235f78",
            "33b5109bf4304594b5ccf6e6624e3844",
            "475e6c3b28904640b0a1a215e4512c75",
            "2f80556bad4545fbaeb1c79c715d50fe",
            "aedb7743b70d467ea5d2b347afc5aab9",
            "a9aedda22474477a8a1e9a02cd9f38a9",
            "2398ab97e229474b87a9d40989a077dd"
          ]
        },
        "id": "rMYLZ9FI4mKa",
        "outputId": "384b9a31-0039-4464-8392-87bb004cdcbb"
      },
      "outputs": [
        {
          "output_type": "display_data",
          "data": {
            "text/plain": [
              "  0%|          | 0/17760 [00:00<?, ?it/s]"
            ],
            "application/vnd.jupyter.widget-view+json": {
              "version_major": 2,
              "version_minor": 0,
              "model_id": "cbc9d6c0fa5d4fb6b6b1c972f7a22591"
            }
          },
          "metadata": {}
        }
      ],
      "source": [
        "data  = []\n",
        "label = []\n",
        "imagepaths = sorted(list(paths.list_images(\"7. Vehicle Detection using CNN [homework Project]\")))\n",
        "with tqdm(total=len(imagepaths)) as pbar:\n",
        "    for i in imagepaths:\n",
        "        try:\n",
        "            image = cv2.imread(i)\n",
        "            image = cv2.resize(image, (28, 28))\n",
        "        except:\n",
        "            continue\n",
        "        data.append(img_to_array(image))\n",
        "        label.append(i.split(sep=\"/\")[1])\n",
        "        pbar.update(1)"
      ]
    },
    {
      "cell_type": "markdown",
      "source": [
        "##EDA"
      ],
      "metadata": {
        "id": "EDa7axzN2wTm"
      }
    },
    {
      "cell_type": "code",
      "execution_count": 8,
      "metadata": {
        "colab": {
          "base_uri": "https://localhost:8080/"
        },
        "id": "Ms1b05Mv_Zz-",
        "outputId": "dfcaf96e-eac0-4336-fc7b-6fea629009ef"
      },
      "outputs": [
        {
          "output_type": "execute_result",
          "data": {
            "text/plain": [
              "0    8968\n",
              "1    8792\n",
              "dtype: int64"
            ]
          },
          "metadata": {},
          "execution_count": 8
        }
      ],
      "source": [
        "flabels = [1 if i==\"vehicles\" else 0 for i in label]\n",
        "check = pd.Series(flabels)\n",
        "check.value_counts()"
      ]
    },
    {
      "cell_type": "code",
      "execution_count": 9,
      "metadata": {
        "colab": {
          "base_uri": "https://localhost:8080/"
        },
        "id": "O6LkYk8gtRVM",
        "outputId": "69ae3350-5296-45b2-f3b2-3bca6be3dfdd"
      },
      "outputs": [
        {
          "output_type": "execute_result",
          "data": {
            "text/plain": [
              "(17760, 28, 28, 3)"
            ]
          },
          "metadata": {},
          "execution_count": 9
        }
      ],
      "source": [
        "np.shape(data)"
      ]
    },
    {
      "cell_type": "code",
      "execution_count": 10,
      "metadata": {
        "id": "YCJS-WzDK0NI"
      },
      "outputs": [],
      "source": [
        "flabels = np.array(flabels)\n",
        "data = np.array(data, dtype = \"float\")"
      ]
    },
    {
      "cell_type": "code",
      "execution_count": 11,
      "metadata": {
        "id": "bD_oBJPTU5Mb"
      },
      "outputs": [],
      "source": [
        "x_train, x_test, y_train, y_test = train_test_split(data, flabels, random_state=10, test_size = 0.2)"
      ]
    },
    {
      "cell_type": "markdown",
      "source": [
        "##Building the Model"
      ],
      "metadata": {
        "id": "_TobPnRB2y4W"
      }
    },
    {
      "cell_type": "code",
      "execution_count": 12,
      "metadata": {
        "id": "nH0O_lzGLuZw"
      },
      "outputs": [],
      "source": [
        "def build_model(hp):\n",
        "    model = Sequential()\n",
        "    model.add(Conv2D(filters = hp.Int('conv_1_filter',min_value = 32, max_value = 128, step = 16), \n",
        "                     kernel_size = hp.Choice('conv_1_kernel', values = [3,5]),\n",
        "                     activation = \"relu\",\n",
        "                     )),\n",
        "    model.add(MaxPooling2D(pool_size = (2,2), strides = (1,1)))\n",
        "    model.add(Conv2D(filters = hp.Int('conv_2_filter', min_value = 32, max_value = 128, step = 16),\n",
        "                     kernel_size = hp.Choice('conv_2_kernel', values = [3,5]),\n",
        "                     activation = \"relu\")),\n",
        "    model.add(MaxPooling2D(pool_size = (2,2), strides = (1,1)))\n",
        "    model.add(Conv2D(filters = hp.Int('conv_3_filter', min_value = 32, max_value = 128, step = 16),\n",
        "                     kernel_size = hp.Choice('conv_3_kernel', values = [3,5]),\n",
        "                     activation = \"relu\")),\n",
        "    model.add(MaxPooling2D(pool_size = (2,2), strides = (1,1)))\n",
        "    model.add(Flatten())\n",
        "    model.add(Dense(units=hp.Int('dense_1_units', min_value=512, max_value=1024, step=128),activation='relu', kernel_regularizer= \"l1\"))\n",
        "    model.add(Dense(units=hp.Int('dense_2_units', min_value=512, max_value=1024, step=128),activation='relu', kernel_regularizer= \"l1\"))\n",
        "    model.add(Dense(units=hp.Int('dense_3_units', min_value=32, max_value=128, step=16),activation='relu', kernel_regularizer= \"l1\"))\n",
        "\n",
        "    model.add(Dense(1, activation = \"sigmoid\"))\n",
        "\n",
        "\n",
        "    model.compile(optimizer=Adam(hp.Choice('learning_rate', values=[1e-2, 1e-3])),\n",
        "              loss='binary_crossentropy',\n",
        "              metrics=['accuracy'])\n",
        "    \n",
        "    return model\n"
      ]
    },
    {
      "cell_type": "markdown",
      "source": [
        "##Model Optimization"
      ],
      "metadata": {
        "id": "_eEPj9oz220-"
      }
    },
    {
      "cell_type": "code",
      "execution_count": 13,
      "metadata": {
        "id": "6OQJex0jTaRt",
        "colab": {
          "base_uri": "https://localhost:8080/"
        },
        "outputId": "360fe24f-6cfb-4638-b1c7-c8879678435c"
      },
      "outputs": [
        {
          "output_type": "stream",
          "name": "stdout",
          "text": [
            "INFO:tensorflow:Reloading Oracle from existing project output/Vehicle Detection/oracle.json\n",
            "INFO:tensorflow:Reloading Tuner from output/Vehicle Detection/tuner0.json\n"
          ]
        }
      ],
      "source": [
        "tuner_search=RandomSearch(build_model,\n",
        "                          objective='accuracy', max_trials= 7, directory='output',\n",
        "                          project_name=\"Vehicle Detection\")"
      ]
    },
    {
      "cell_type": "code",
      "execution_count": null,
      "metadata": {
        "id": "ykHNDeIeTlvk"
      },
      "outputs": [],
      "source": [
        "tuner_search.search(x_train, y_train,epochs=10,validation_split=0.2)"
      ]
    },
    {
      "cell_type": "markdown",
      "source": [
        "##Building the best model"
      ],
      "metadata": {
        "id": "CYXh0_eu2-kP"
      }
    },
    {
      "cell_type": "code",
      "execution_count": 15,
      "metadata": {
        "id": "bVVTkkKAUs3M",
        "colab": {
          "base_uri": "https://localhost:8080/"
        },
        "outputId": "71c755e7-1967-41b6-81e6-4d403e3b4c56"
      },
      "outputs": [
        {
          "output_type": "stream",
          "name": "stdout",
          "text": [
            "Model: \"sequential\"\n",
            "_________________________________________________________________\n",
            "Layer (type)                 Output Shape              Param #   \n",
            "=================================================================\n",
            "conv2d (Conv2D)              multiple                  896       \n",
            "_________________________________________________________________\n",
            "max_pooling2d (MaxPooling2D) multiple                  0         \n",
            "_________________________________________________________________\n",
            "conv2d_1 (Conv2D)            multiple                  32368     \n",
            "_________________________________________________________________\n",
            "max_pooling2d_1 (MaxPooling2 multiple                  0         \n",
            "_________________________________________________________________\n",
            "conv2d_2 (Conv2D)            multiple                  129152    \n",
            "_________________________________________________________________\n",
            "max_pooling2d_2 (MaxPooling2 multiple                  0         \n",
            "_________________________________________________________________\n",
            "flatten (Flatten)            multiple                  0         \n",
            "_________________________________________________________________\n",
            "dense (Dense)                multiple                  3696720   \n",
            "_________________________________________________________________\n",
            "dense_1 (Dense)              multiple                  2592      \n",
            "_________________________________________________________________\n",
            "dense_2 (Dense)              multiple                  2640      \n",
            "_________________________________________________________________\n",
            "dense_3 (Dense)              multiple                  81        \n",
            "=================================================================\n",
            "Total params: 3,864,449\n",
            "Trainable params: 3,864,449\n",
            "Non-trainable params: 0\n",
            "_________________________________________________________________\n"
          ]
        }
      ],
      "source": [
        "best_model = tuner_search.get_best_models()[0]\n",
        "best_model.build(input_shape=(None,28, 28, 3))\n",
        "best_model.summary()"
      ]
    },
    {
      "cell_type": "code",
      "execution_count": 16,
      "metadata": {
        "id": "qpUMfM41X6-Z"
      },
      "outputs": [],
      "source": [
        "x_train_final, x_val, y_train_final, y_val = train_test_split(x_train, y_train, random_state = 10, test_size = 0.1, stratify= y_train)"
      ]
    },
    {
      "cell_type": "code",
      "execution_count": 17,
      "metadata": {
        "id": "wAFyArq9X67i",
        "colab": {
          "base_uri": "https://localhost:8080/"
        },
        "outputId": "11a26614-b75a-4100-b3e4-e19f59556585"
      },
      "outputs": [
        {
          "output_type": "execute_result",
          "data": {
            "text/plain": [
              "(12787, 28, 28, 3)"
            ]
          },
          "metadata": {},
          "execution_count": 17
        }
      ],
      "source": [
        "x_train_final.shape"
      ]
    },
    {
      "cell_type": "code",
      "execution_count": 18,
      "metadata": {
        "id": "jpOlYwM_X648",
        "colab": {
          "base_uri": "https://localhost:8080/"
        },
        "outputId": "cfa7710a-3da2-4a77-acf5-d61f898d4928"
      },
      "outputs": [
        {
          "output_type": "execute_result",
          "data": {
            "text/plain": [
              "(1421, 28, 28, 3)"
            ]
          },
          "metadata": {},
          "execution_count": 18
        }
      ],
      "source": [
        "x_val.shape"
      ]
    },
    {
      "cell_type": "code",
      "execution_count": 19,
      "metadata": {
        "id": "gBHcCUxkX61q",
        "colab": {
          "base_uri": "https://localhost:8080/"
        },
        "outputId": "fcff7069-ca05-425f-b717-b0114818e4fd"
      },
      "outputs": [
        {
          "output_type": "execute_result",
          "data": {
            "text/plain": [
              "(12787,)"
            ]
          },
          "metadata": {},
          "execution_count": 19
        }
      ],
      "source": [
        "y_train_final.shape"
      ]
    },
    {
      "cell_type": "code",
      "execution_count": 20,
      "metadata": {
        "id": "jtkmS6pzX6yZ",
        "colab": {
          "base_uri": "https://localhost:8080/"
        },
        "outputId": "d28065e0-8a29-44bb-da61-6a26ec0fdb60"
      },
      "outputs": [
        {
          "output_type": "execute_result",
          "data": {
            "text/plain": [
              "(1421,)"
            ]
          },
          "metadata": {},
          "execution_count": 20
        }
      ],
      "source": [
        "y_val.shape"
      ]
    },
    {
      "cell_type": "code",
      "execution_count": 21,
      "metadata": {
        "id": "jdQcVQ9VX6vT",
        "colab": {
          "base_uri": "https://localhost:8080/"
        },
        "outputId": "024ed2c3-0d2f-4fe9-be1e-c77c919c7b23"
      },
      "outputs": [
        {
          "output_type": "stream",
          "name": "stdout",
          "text": [
            "Train on 12787 samples, validate on 1421 samples\n",
            "Epoch 1/50\n",
            "12787/12787 [==============================] - 181s 14ms/sample - loss: 4.6381 - accuracy: 0.9841 - val_loss: 4.6137 - val_accuracy: 0.9838\n",
            "Epoch 2/50\n",
            "12787/12787 [==============================] - 180s 14ms/sample - loss: 4.5844 - accuracy: 0.9819 - val_loss: 4.7575 - val_accuracy: 0.9331\n",
            "Epoch 3/50\n",
            "12787/12787 [==============================] - 180s 14ms/sample - loss: 4.5480 - accuracy: 0.9803 - val_loss: 4.5997 - val_accuracy: 0.9507\n",
            "Epoch 4/50\n",
            "12787/12787 [==============================] - 180s 14ms/sample - loss: 4.5025 - accuracy: 0.9825 - val_loss: 4.5046 - val_accuracy: 0.9852\n",
            "Epoch 5/50\n",
            "12787/12787 [==============================] - 178s 14ms/sample - loss: 4.4739 - accuracy: 0.9848 - val_loss: 4.5059 - val_accuracy: 0.9873\n",
            "Epoch 6/50\n",
            "12787/12787 [==============================] - 177s 14ms/sample - loss: 4.4499 - accuracy: 0.9870 - val_loss: 4.4126 - val_accuracy: 0.9810\n",
            "Epoch 7/50\n",
            "12787/12787 [==============================] - 179s 14ms/sample - loss: 4.4387 - accuracy: 0.9880 - val_loss: 4.4625 - val_accuracy: 0.9845\n",
            "Epoch 8/50\n",
            "12787/12787 [==============================] - 182s 14ms/sample - loss: 4.4430 - accuracy: 0.9864 - val_loss: 4.4901 - val_accuracy: 0.9859\n",
            "Epoch 9/50\n",
            "12787/12787 [==============================] - 178s 14ms/sample - loss: 4.4376 - accuracy: 0.9873 - val_loss: 4.3835 - val_accuracy: 0.9923\n",
            "Epoch 10/50\n",
            "12787/12787 [==============================] - 178s 14ms/sample - loss: 4.4389 - accuracy: 0.9875 - val_loss: 4.4480 - val_accuracy: 0.9909\n",
            "Epoch 11/50\n",
            "12787/12787 [==============================] - 179s 14ms/sample - loss: 4.4303 - accuracy: 0.9887 - val_loss: 4.4703 - val_accuracy: 0.9880\n",
            "Epoch 12/50\n",
            "12787/12787 [==============================] - 178s 14ms/sample - loss: 4.4333 - accuracy: 0.9889 - val_loss: 4.3961 - val_accuracy: 0.9873\n",
            "Epoch 13/50\n",
            "12787/12787 [==============================] - 179s 14ms/sample - loss: 4.4362 - accuracy: 0.9880 - val_loss: 4.4200 - val_accuracy: 0.9859\n",
            "Epoch 14/50\n",
            "12787/12787 [==============================] - 178s 14ms/sample - loss: 4.4204 - accuracy: 0.9894 - val_loss: 4.4447 - val_accuracy: 0.9901\n",
            "Epoch 15/50\n",
            "12787/12787 [==============================] - 178s 14ms/sample - loss: 4.4224 - accuracy: 0.9891 - val_loss: 4.3710 - val_accuracy: 0.9923\n",
            "Epoch 16/50\n",
            "12787/12787 [==============================] - 176s 14ms/sample - loss: 4.4153 - accuracy: 0.9909 - val_loss: 4.4406 - val_accuracy: 0.9901\n",
            "Epoch 17/50\n",
            "12787/12787 [==============================] - 175s 14ms/sample - loss: 4.4236 - accuracy: 0.9892 - val_loss: 4.4864 - val_accuracy: 0.9796\n",
            "Epoch 18/50\n",
            "12787/12787 [==============================] - 177s 14ms/sample - loss: 4.4132 - accuracy: 0.9919 - val_loss: 4.4055 - val_accuracy: 0.9894\n",
            "Epoch 19/50\n",
            "12787/12787 [==============================] - 177s 14ms/sample - loss: 4.4088 - accuracy: 0.9924 - val_loss: 4.4591 - val_accuracy: 0.9824\n",
            "Epoch 20/50\n",
            "12787/12787 [==============================] - 178s 14ms/sample - loss: 4.4231 - accuracy: 0.9898 - val_loss: 4.3984 - val_accuracy: 0.9937\n",
            "Epoch 21/50\n",
            "12787/12787 [==============================] - 177s 14ms/sample - loss: 4.4120 - accuracy: 0.9920 - val_loss: 4.3761 - val_accuracy: 0.9873\n",
            "Epoch 22/50\n",
            "12787/12787 [==============================] - 176s 14ms/sample - loss: 4.4226 - accuracy: 0.9898 - val_loss: 4.4223 - val_accuracy: 0.9916\n",
            "Epoch 23/50\n",
            "12787/12787 [==============================] - 177s 14ms/sample - loss: 4.4088 - accuracy: 0.9926 - val_loss: 4.4115 - val_accuracy: 0.9916\n",
            "Epoch 24/50\n",
            "12787/12787 [==============================] - 179s 14ms/sample - loss: 4.4101 - accuracy: 0.9923 - val_loss: 4.3645 - val_accuracy: 0.9901\n",
            "Epoch 25/50\n",
            "12787/12787 [==============================] - 178s 14ms/sample - loss: 4.4197 - accuracy: 0.9891 - val_loss: 4.4384 - val_accuracy: 0.9916\n",
            "Epoch 26/50\n",
            "12787/12787 [==============================] - 178s 14ms/sample - loss: 4.4010 - accuracy: 0.9925 - val_loss: 4.4333 - val_accuracy: 0.9909\n",
            "Epoch 27/50\n",
            "12787/12787 [==============================] - 178s 14ms/sample - loss: 4.4135 - accuracy: 0.9919 - val_loss: 4.3879 - val_accuracy: 0.9859\n",
            "Epoch 28/50\n",
            "12787/12787 [==============================] - 179s 14ms/sample - loss: 4.4066 - accuracy: 0.9928 - val_loss: 4.4455 - val_accuracy: 0.9754\n",
            "Epoch 29/50\n",
            "12787/12787 [==============================] - 178s 14ms/sample - loss: 4.3974 - accuracy: 0.9930 - val_loss: 4.4332 - val_accuracy: 0.9894\n",
            "Epoch 30/50\n",
            "12787/12787 [==============================] - 179s 14ms/sample - loss: 4.3990 - accuracy: 0.9934 - val_loss: 4.3494 - val_accuracy: 0.9909\n",
            "Epoch 31/50\n",
            "12787/12787 [==============================] - 179s 14ms/sample - loss: 4.4142 - accuracy: 0.9909 - val_loss: 4.4132 - val_accuracy: 0.9916\n",
            "Epoch 32/50\n",
            "12787/12787 [==============================] - 178s 14ms/sample - loss: 4.3972 - accuracy: 0.9932 - val_loss: 4.4457 - val_accuracy: 0.9901\n",
            "Epoch 33/50\n",
            "12787/12787 [==============================] - 177s 14ms/sample - loss: 4.4021 - accuracy: 0.9944 - val_loss: 4.3762 - val_accuracy: 0.9894\n",
            "Epoch 34/50\n",
            "12787/12787 [==============================] - 178s 14ms/sample - loss: 4.3991 - accuracy: 0.9940 - val_loss: 4.4084 - val_accuracy: 0.9930\n",
            "Epoch 35/50\n",
            "12787/12787 [==============================] - 180s 14ms/sample - loss: 4.4032 - accuracy: 0.9933 - val_loss: 4.4615 - val_accuracy: 0.9909\n",
            "Epoch 36/50\n",
            "12787/12787 [==============================] - 182s 14ms/sample - loss: 4.3951 - accuracy: 0.9946 - val_loss: 4.3627 - val_accuracy: 0.9916\n",
            "Epoch 37/50\n",
            "12787/12787 [==============================] - 182s 14ms/sample - loss: 4.4020 - accuracy: 0.9933 - val_loss: 4.4648 - val_accuracy: 0.9901\n",
            "Epoch 38/50\n",
            "12787/12787 [==============================] - 180s 14ms/sample - loss: 4.4045 - accuracy: 0.9944 - val_loss: 4.5007 - val_accuracy: 0.9789\n",
            "Epoch 39/50\n",
            "12787/12787 [==============================] - 181s 14ms/sample - loss: 4.4017 - accuracy: 0.9939 - val_loss: 4.3978 - val_accuracy: 0.9916\n",
            "Epoch 40/50\n",
            "12787/12787 [==============================] - 185s 14ms/sample - loss: 4.3875 - accuracy: 0.9944 - val_loss: 4.4100 - val_accuracy: 0.9909\n",
            "Epoch 41/50\n",
            "12787/12787 [==============================] - 183s 14ms/sample - loss: 4.3964 - accuracy: 0.9940 - val_loss: 4.3827 - val_accuracy: 0.9887\n",
            "Epoch 42/50\n",
            "12787/12787 [==============================] - 184s 14ms/sample - loss: 4.3878 - accuracy: 0.9952 - val_loss: 4.3608 - val_accuracy: 0.9894\n",
            "Epoch 43/50\n",
            "12787/12787 [==============================] - 182s 14ms/sample - loss: 4.3937 - accuracy: 0.9931 - val_loss: 4.4502 - val_accuracy: 0.9866\n",
            "Epoch 44/50\n",
            "12787/12787 [==============================] - 181s 14ms/sample - loss: 4.4018 - accuracy: 0.9937 - val_loss: 4.4154 - val_accuracy: 0.9909\n",
            "Epoch 45/50\n",
            "12787/12787 [==============================] - 181s 14ms/sample - loss: 4.3871 - accuracy: 0.9941 - val_loss: 4.3872 - val_accuracy: 0.9894\n",
            "Epoch 46/50\n",
            "12787/12787 [==============================] - 181s 14ms/sample - loss: 4.3833 - accuracy: 0.9937 - val_loss: 4.4284 - val_accuracy: 0.9901\n",
            "Epoch 47/50\n",
            "12787/12787 [==============================] - 182s 14ms/sample - loss: 4.3860 - accuracy: 0.9955 - val_loss: 4.4210 - val_accuracy: 0.9894\n",
            "Epoch 48/50\n",
            "12787/12787 [==============================] - 185s 14ms/sample - loss: 4.3855 - accuracy: 0.9946 - val_loss: 4.3536 - val_accuracy: 0.9887\n",
            "Epoch 49/50\n",
            "12787/12787 [==============================] - 184s 14ms/sample - loss: 4.3819 - accuracy: 0.9959 - val_loss: 4.4314 - val_accuracy: 0.9873\n",
            "Epoch 50/50\n",
            "12787/12787 [==============================] - 180s 14ms/sample - loss: 4.4072 - accuracy: 0.9942 - val_loss: 4.4466 - val_accuracy: 0.9852\n"
          ]
        }
      ],
      "source": [
        "Epochs = 50\n",
        "M1 = best_model.fit(x = x_train_final, y = y_train_final, validation_data = (x_val, y_val), epochs= Epochs)"
      ]
    },
    {
      "cell_type": "markdown",
      "source": [
        "##Model Evaluation"
      ],
      "metadata": {
        "id": "ImKVAAxw3I0Q"
      }
    },
    {
      "cell_type": "code",
      "execution_count": 22,
      "metadata": {
        "id": "SED85jX_X6sE",
        "colab": {
          "base_uri": "https://localhost:8080/",
          "height": 513
        },
        "outputId": "cd8c4ae7-c458-4f28-d36b-965410d46e39"
      },
      "outputs": [
        {
          "output_type": "display_data",
          "data": {
            "text/plain": [
              "<Figure size 720x576 with 1 Axes>"
            ],
            "image/png": "[encoded data removed]"
          },
          "metadata": {
            "needs_background": "light"
          }
        }
      ],
      "source": [
        "plt.figure(figsize = [10,8])\n",
        "plt.plot(np.arange(0, Epochs), M1.history[\"accuracy\"], label=\"train_acc\")\n",
        "plt.plot(np.arange(0, Epochs), M1.history[\"val_accuracy\"], label=\"val_acc\")\n",
        "plt.title(\"Vehicle Detection: Training and Validation Accuracy\")\n",
        "plt.xlabel(\"Epoch\", weight=\"bold\")\n",
        "plt.ylabel(\"Accuracy\", weight=\"bold\")\n",
        "plt.legend()\n",
        "plt.show()"
      ]
    },
    {
      "cell_type": "code",
      "execution_count": 23,
      "metadata": {
        "id": "O4x9xDotX6pG",
        "colab": {
          "base_uri": "https://localhost:8080/",
          "height": 513
        },
        "outputId": "d3f94aa1-aef1-4e07-e4ab-27d30d04bf74"
      },
      "outputs": [
        {
          "output_type": "display_data",
          "data": {
            "text/plain": [
              "<Figure size 720x576 with 1 Axes>"
            ],
            "image/png": "[encoded data removed]"
          },
          "metadata": {
            "needs_background": "light"
          }
        }
      ],
      "source": [
        "plt.figure(figsize = [10,8])\n",
        "plt.plot(np.arange(0, Epochs), M1.history[\"loss\"], label=\"train_loss\")\n",
        "plt.plot(np.arange(0, Epochs), M1.history[\"val_loss\"], label=\"val_loss\")\n",
        "plt.title(\"Vehicle Dectection: Training and Validation Loss\")\n",
        "plt.xlabel(\"Epoch\", weight=\"bold\")\n",
        "plt.ylabel(\"Loss\", weight=\"bold\")\n",
        "plt.legend()\n",
        "plt.show()"
      ]
    },
    {
      "cell_type": "code",
      "execution_count": 27,
      "metadata": {
        "id": "JxQjvN9aex1d"
      },
      "outputs": [],
      "source": [
        "y_pred_prob = best_model.predict(x_test)"
      ]
    },
    {
      "cell_type": "code",
      "source": [
        "def plot_roc(y_pred_prob):\n",
        "    fpr, tpr, threshold = roc_curve(y_test, y_pred_prob)\n",
        "    fig = plt.figure(figsize= (20,15))\n",
        "    plt.plot(fpr,tpr)\n",
        "    plt.plot([0,1],\"r--\")\n",
        "    plt.xlim([0,1])\n",
        "    plt.ylim([0,1])\n",
        "    plt.text(x = 0.02, y = 0.85, s = (\"AUC Score: \", roc_auc_score(y_test, y_pred_prob)))\n",
        "    plt.title('ROC Curve for Vehicle Detection', fontsize = 15)\n",
        "    plt.xlabel('False positive rate (1-Specificity)', fontsize = 15)\n",
        "    plt.ylabel('True positive rate (Sensitivity)', fontsize = 15)\n",
        "    plt.grid(True)"
      ],
      "metadata": {
        "id": "Q9HHJ3TkxE4K"
      },
      "execution_count": 37,
      "outputs": []
    },
    {
      "cell_type": "code",
      "source": [
        "plot_roc(y_pred_prob)"
      ],
      "metadata": {
        "colab": {
          "base_uri": "https://localhost:8080/",
          "height": 900
        },
        "id": "3o82hGwBxKgp",
        "outputId": "2c021d6a-6894-4901-faec-124baa058613"
      },
      "execution_count": 38,
      "outputs": [
        {
          "output_type": "display_data",
          "data": {
            "text/plain": [
              "<Figure size 1440x1080 with 1 Axes>"
            ],
            "image/png": "[encoded data removed]"
          },
          "metadata": {
            "needs_background": "light"
          }
        }
      ]
    },
    {
      "cell_type": "code",
      "execution_count": 39,
      "metadata": {
        "id": "AEnjzfU1jAg6"
      },
      "outputs": [],
      "source": [
        "y_pred = [1 if i>0.5 else 0 for i in y_pred_prob] "
      ]
    },
    {
      "cell_type": "code",
      "execution_count": 44,
      "metadata": {
        "id": "2yD936y6X6l5"
      },
      "outputs": [],
      "source": [
        "def model_evaluation(y_test, y_pred):\n",
        "    print(\"Cohen Kappa Score:\", cohen_kappa_score(y_test, y_pred), \"\\n\")\n",
        "    print(\"Classification Report--> \\n\", classification_report(y_test,y_pred))\n",
        "    cm = confusion_matrix(y_test, y_pred)\n",
        "    cm = pd.DataFrame(cm)\n",
        "    sns.heatmap(cm, annot =True, fmt =\"d\")\n",
        "    plt.xlabel(\"Predicted Class\")\n",
        "    plt.ylabel(\"Actual Class\")"
      ]
    },
    {
      "cell_type": "code",
      "execution_count": 45,
      "metadata": {
        "id": "no_QzfDYVX7E",
        "colab": {
          "base_uri": "https://localhost:8080/",
          "height": 487
        },
        "outputId": "2eb3d4ad-c36e-4370-f9f1-1674bca94f09"
      },
      "outputs": [
        {
          "output_type": "stream",
          "name": "stdout",
          "text": [
            "Cohen Kappa Score: 0.9769144144144144 \n",
            "\n",
            "Classification Report--> \n",
            "               precision    recall  f1-score   support\n",
            "\n",
            "           0       1.00      0.98      0.99      1776\n",
            "           1       0.98      1.00      0.99      1776\n",
            "\n",
            "    accuracy                           0.99      3552\n",
            "   macro avg       0.99      0.99      0.99      3552\n",
            "weighted avg       0.99      0.99      0.99      3552\n",
            "\n"
          ]
        },
        {
          "output_type": "display_data",
          "data": {
            "text/plain": [
              "<Figure size 432x288 with 2 Axes>"
            ],
            "image/png": "[encoded data removed]"
          },
          "metadata": {
            "needs_background": "light"
          }
        }
      ],
      "source": [
        "model_evaluation(y_test, y_pred)"
      ]
    },
    {
      "cell_type": "markdown",
      "source": [
        "##Model Deployment"
      ],
      "metadata": {
        "id": "5bF-CihO3Qb3"
      }
    },
    {
      "cell_type": "code",
      "source": [
        "!pip install gradio"
      ],
      "metadata": {
        "id": "stAZm4nDwOjr"
      },
      "execution_count": null,
      "outputs": []
    },
    {
      "cell_type": "code",
      "source": [
        "import gradio as gr\n",
        "def predict_image(image):\n",
        "    data_pred  = []\n",
        "    image = cv2.resize(image, (28, 28))\n",
        "    image = img_to_array(image)\n",
        "    data_pred.append(image)\n",
        "    d = np.array(data_pred, dtype = \"float\")\n",
        "    preds = best_model.predict(d)\n",
        "    if preds<0.5:\n",
        "        prediction = \"non-vehicle\"\n",
        "    else:\n",
        "        prediction = \"vehicle\"\n",
        "    \n",
        "    return prediction\n",
        "\n",
        "im = gr.inputs.Image(shape=(28,28))\n",
        "label = gr.outputs.Label()\n",
        "\n",
        "gr.Interface(fn=predict_image, inputs=im, outputs=label, capture_session=True, title=\"Vehicle Detection\").launch(share=True)"
      ],
      "metadata": {
        "colab": {
          "base_uri": "https://localhost:8080/",
          "height": 643
        },
        "id": "wkvVGEdvyEbi",
        "outputId": "c6255d2c-ce75-41c2-ed90-f27cd7a2fe1e"
      },
      "execution_count": 55,
      "outputs": [
        {
          "output_type": "stream",
          "name": "stdout",
          "text": [
            "Colab notebook detected. To show errors in colab notebook, set `debug=True` in `launch()`\n",
            "Running on public URL: https://32041.gradio.app\n",
            "\n",
            "This share link expires in 72 hours. For free permanent hosting, check out Spaces (https://huggingface.co/spaces)\n"
          ]
        },
        {
          "output_type": "display_data",
          "data": {
            "text/plain": [
              "<IPython.lib.display.IFrame at 0x7f36462af310>"
            ],
            "text/html": [
              "\n",
              "        <iframe\n",
              "            width=\"900\"\n",
              "            height=\"500\"\n",
              "            src=\"https://32041.gradio.app\"\n",
              "            frameborder=\"0\"\n",
              "            allowfullscreen\n",
              "        ></iframe>\n",
              "        "
            ]
          },
          "metadata": {}
        },
        {
          "output_type": "execute_result",
          "data": {
            "text/plain": [
              "(<fastapi.applications.FastAPI at 0x7f3667bbf350>,\n",
              " 'http://127.0.0.1:7868/',\n",
              " 'https://32041.gradio.app')"
            ]
          },
          "metadata": {},
          "execution_count": 55
        }
      ]
    },
    {
      "cell_type": "code",
      "source": [
        ""
      ],
      "metadata": {
        "id": "RCLHK492y_lP"
      },
      "execution_count": null,
      "outputs": []
    }
  ],
  "metadata": {
    "colab": {
      "collapsed_sections": [],
      "name": "Vehicle Detection using CNN.ipynb",
      "provenance": []
    },
    "kernelspec": {
      "display_name": "Python 3",
      "name": "python3"
    },
    "language_info": {
      "name": "python"
    },
    "widgets": {
      "application/vnd.jupyter.widget-state+json": {
        "cbc9d6c0fa5d4fb6b6b1c972f7a22591": {
          "model_module": "@jupyter-widgets/controls",
          "model_name": "HBoxModel",
          "model_module_version": "1.5.0",
          "state": {
            "_dom_classes": [],
            "_model_module": "@jupyter-widgets/controls",
            "_model_module_version": "1.5.0",
            "_model_name": "HBoxModel",
            "_view_count": null,
            "_view_module": "@jupyter-widgets/controls",
            "_view_module_version": "1.5.0",
            "_view_name": "HBoxView",
            "box_style": "",
            "children": [
              "IPY_MODEL_f0352b52aef64cb48d912bb6fcf47601",
              "IPY_MODEL_d7a23817289343b58ec6de458013f761",
              "IPY_MODEL_8e027aff7b1a4eec9214e2b517552da5"
            ],
            "layout": "IPY_MODEL_e38c75118a564cebaecaa79342235f78"
          }
        },
        "f0352b52aef64cb48d912bb6fcf47601": {
          "model_module": "@jupyter-widgets/controls",
          "model_name": "HTMLModel",
          "model_module_version": "1.5.0",
          "state": {
            "_dom_classes": [],
            "_model_module": "@jupyter-widgets/controls",
            "_model_module_version": "1.5.0",
            "_model_name": "HTMLModel",
            "_view_count": null,
            "_view_module": "@jupyter-widgets/controls",
            "_view_module_version": "1.5.0",
            "_view_name": "HTMLView",
            "description": "",
            "description_tooltip": null,
            "layout": "IPY_MODEL_33b5109bf4304594b5ccf6e6624e3844",
            "placeholder": "​",
            "style": "IPY_MODEL_475e6c3b28904640b0a1a215e4512c75",
            "value": "100%"
          }
        },
        "d7a23817289343b58ec6de458013f761": {
          "model_module": "@jupyter-widgets/controls",
          "model_name": "FloatProgressModel",
          "model_module_version": "1.5.0",
          "state": {
            "_dom_classes": [],
            "_model_module": "@jupyter-widgets/controls",
            "_model_module_version": "1.5.0",
            "_model_name": "FloatProgressModel",
            "_view_count": null,
            "_view_module": "@jupyter-widgets/controls",
            "_view_module_version": "1.5.0",
            "_view_name": "ProgressView",
            "bar_style": "success",
            "description": "",
            "description_tooltip": null,
            "layout": "IPY_MODEL_2f80556bad4545fbaeb1c79c715d50fe",
            "max": 17760,
            "min": 0,
            "orientation": "horizontal",
            "style": "IPY_MODEL_aedb7743b70d467ea5d2b347afc5aab9",
            "value": 17760
          }
        },
        "8e027aff7b1a4eec9214e2b517552da5": {
          "model_module": "@jupyter-widgets/controls",
          "model_name": "HTMLModel",
          "model_module_version": "1.5.0",
          "state": {
            "_dom_classes": [],
            "_model_module": "@jupyter-widgets/controls",
            "_model_module_version": "1.5.0",
            "_model_name": "HTMLModel",
            "_view_count": null,
            "_view_module": "@jupyter-widgets/controls",
            "_view_module_version": "1.5.0",
            "_view_name": "HTMLView",
            "description": "",
            "description_tooltip": null,
            "layout": "IPY_MODEL_a9aedda22474477a8a1e9a02cd9f38a9",
            "placeholder": "​",
            "style": "IPY_MODEL_2398ab97e229474b87a9d40989a077dd",
            "value": " 17760/17760 [36:10&lt;00:00,  6.26it/s]"
          }
        },
        "e38c75118a564cebaecaa79342235f78": {
          "model_module": "@jupyter-widgets/base",
          "model_name": "LayoutModel",
          "model_module_version": "1.2.0",
          "state": {
            "_model_module": "@jupyter-widgets/base",
            "_model_module_version": "1.2.0",
            "_model_name": "LayoutModel",
            "_view_count": null,
            "_view_module": "@jupyter-widgets/base",
            "_view_module_version": "1.2.0",
            "_view_name": "LayoutView",
            "align_content": null,
            "align_items": null,
            "align_self": null,
            "border": null,
            "bottom": null,
            "display": null,
            "flex": null,
            "flex_flow": null,
            "grid_area": null,
            "grid_auto_columns": null,
            "grid_auto_flow": null,
            "grid_auto_rows": null,
            "grid_column": null,
            "grid_gap": null,
            "grid_row": null,
            "grid_template_areas": null,
            "grid_template_columns": null,
            "grid_template_rows": null,
            "height": null,
            "justify_content": null,
            "justify_items": null,
            "left": null,
            "margin": null,
            "max_height": null,
            "max_width": null,
            "min_height": null,
            "min_width": null,
            "object_fit": null,
            "object_position": null,
            "order": null,
            "overflow": null,
            "overflow_x": null,
            "overflow_y": null,
            "padding": null,
            "right": null,
            "top": null,
            "visibility": null,
            "width": null
          }
        },
        "33b5109bf4304594b5ccf6e6624e3844": {
          "model_module": "@jupyter-widgets/base",
          "model_name": "LayoutModel",
          "model_module_version": "1.2.0",
          "state": {
            "_model_module": "@jupyter-widgets/base",
            "_model_module_version": "1.2.0",
            "_model_name": "LayoutModel",
            "_view_count": null,
            "_view_module": "@jupyter-widgets/base",
            "_view_module_version": "1.2.0",
            "_view_name": "LayoutView",
            "align_content": null,
            "align_items": null,
            "align_self": null,
            "border": null,
            "bottom": null,
            "display": null,
            "flex": null,
            "flex_flow": null,
            "grid_area": null,
            "grid_auto_columns": null,
            "grid_auto_flow": null,
            "grid_auto_rows": null,
            "grid_column": null,
            "grid_gap": null,
            "grid_row": null,
            "grid_template_areas": null,
            "grid_template_columns": null,
            "grid_template_rows": null,
            "height": null,
            "justify_content": null,
            "justify_items": null,
            "left": null,
            "margin": null,
            "max_height": null,
            "max_width": null,
            "min_height": null,
            "min_width": null,
            "object_fit": null,
            "object_position": null,
            "order": null,
            "overflow": null,
            "overflow_x": null,
            "overflow_y": null,
            "padding": null,
            "right": null,
            "top": null,
            "visibility": null,
            "width": null
          }
        },
        "475e6c3b28904640b0a1a215e4512c75": {
          "model_module": "@jupyter-widgets/controls",
          "model_name": "DescriptionStyleModel",
          "model_module_version": "1.5.0",
          "state": {
            "_model_module": "@jupyter-widgets/controls",
            "_model_module_version": "1.5.0",
            "_model_name": "DescriptionStyleModel",
            "_view_count": null,
            "_view_module": "@jupyter-widgets/base",
            "_view_module_version": "1.2.0",
            "_view_name": "StyleView",
            "description_width": ""
          }
        },
        "2f80556bad4545fbaeb1c79c715d50fe": {
          "model_module": "@jupyter-widgets/base",
          "model_name": "LayoutModel",
          "model_module_version": "1.2.0",
          "state": {
            "_model_module": "@jupyter-widgets/base",
            "_model_module_version": "1.2.0",
            "_model_name": "LayoutModel",
            "_view_count": null,
            "_view_module": "@jupyter-widgets/base",
            "_view_module_version": "1.2.0",
            "_view_name": "LayoutView",
            "align_content": null,
            "align_items": null,
            "align_self": null,
            "border": null,
            "bottom": null,
            "display": null,
            "flex": null,
            "flex_flow": null,
            "grid_area": null,
            "grid_auto_columns": null,
            "grid_auto_flow": null,
            "grid_auto_rows": null,
            "grid_column": null,
            "grid_gap": null,
            "grid_row": null,
            "grid_template_areas": null,
            "grid_template_columns": null,
            "grid_template_rows": null,
            "height": null,
            "justify_content": null,
            "justify_items": null,
            "left": null,
            "margin": null,
            "max_height": null,
            "max_width": null,
            "min_height": null,
            "min_width": null,
            "object_fit": null,
            "object_position": null,
            "order": null,
            "overflow": null,
            "overflow_x": null,
            "overflow_y": null,
            "padding": null,
            "right": null,
            "top": null,
            "visibility": null,
            "width": null
          }
        },
        "aedb7743b70d467ea5d2b347afc5aab9": {
          "model_module": "@jupyter-widgets/controls",
          "model_name": "ProgressStyleModel",
          "model_module_version": "1.5.0",
          "state": {
            "_model_module": "@jupyter-widgets/controls",
            "_model_module_version": "1.5.0",
            "_model_name": "ProgressStyleModel",
            "_view_count": null,
            "_view_module": "@jupyter-widgets/base",
            "_view_module_version": "1.2.0",
            "_view_name": "StyleView",
            "bar_color": null,
            "description_width": ""
          }
        },
        "a9aedda22474477a8a1e9a02cd9f38a9": {
          "model_module": "@jupyter-widgets/base",
          "model_name": "LayoutModel",
          "model_module_version": "1.2.0",
          "state": {
            "_model_module": "@jupyter-widgets/base",
            "_model_module_version": "1.2.0",
            "_model_name": "LayoutModel",
            "_view_count": null,
            "_view_module": "@jupyter-widgets/base",
            "_view_module_version": "1.2.0",
            "_view_name": "LayoutView",
            "align_content": null,
            "align_items": null,
            "align_self": null,
            "border": null,
            "bottom": null,
            "display": null,
            "flex": null,
            "flex_flow": null,
            "grid_area": null,
            "grid_auto_columns": null,
            "grid_auto_flow": null,
            "grid_auto_rows": null,
            "grid_column": null,
            "grid_gap": null,
            "grid_row": null,
            "grid_template_areas": null,
            "grid_template_columns": null,
            "grid_template_rows": null,
            "height": null,
            "justify_content": null,
            "justify_items": null,
            "left": null,
            "margin": null,
            "max_height": null,
            "max_width": null,
            "min_height": null,
            "min_width": null,
            "object_fit": null,
            "object_position": null,
            "order": null,
            "overflow": null,
            "overflow_x": null,
            "overflow_y": null,
            "padding": null,
            "right": null,
            "top": null,
            "visibility": null,
            "width": null
          }
        },
        "2398ab97e229474b87a9d40989a077dd": {
          "model_module": "@jupyter-widgets/controls",
          "model_name": "DescriptionStyleModel",
          "model_module_version": "1.5.0",
          "state": {
            "_model_module": "@jupyter-widgets/controls",
            "_model_module_version": "1.5.0",
            "_model_name": "DescriptionStyleModel",
            "_view_count": null,
            "_view_module": "@jupyter-widgets/base",
            "_view_module_version": "1.2.0",
            "_view_name": "StyleView",
            "description_width": ""
          }
        }
      }
    }
  },
  "nbformat": 4,
  "nbformat_minor": 0
}